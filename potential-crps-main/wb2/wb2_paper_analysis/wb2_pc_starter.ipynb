{
 "cells": [
  {
   "cell_type": "code",
   "execution_count": 1,
   "id": "f275fcc4-01ce-41af-8760-716d90517655",
   "metadata": {},
   "outputs": [],
   "source": [
    "import numpy as np\n",
    "import xarray as xr\n",
    "from dask.diagnostics import ProgressBar\n",
    "from isodisreg import idr"
   ]
  },
  {
   "cell_type": "markdown",
   "id": "e37bc0cc-2fac-45b9-a954-45494fbfa786",
   "metadata": {},
   "source": [
    "# Downloading data"
   ]
  },
  {
   "cell_type": "markdown",
   "id": "84e45b12-deaf-440b-bb82-2e0e21bda2b2",
   "metadata": {},
   "source": [
    "WeatherBench2 Data Guide: https://weatherbench2.readthedocs.io/en/latest/data-guide.html"
   ]
  },
  {
   "cell_type": "code",
   "execution_count": 2,
   "id": "d1b30797-b626-4ee7-8207-9e1c31a6aadb",
   "metadata": {},
   "outputs": [],
   "source": [
    "# \"Observations\"\n",
    "obs_paths = {\n",
    "    'era5':          'gs://weatherbench2/datasets/era5/1959-2022-6h-64x32_equiangular_conservative.zarr',\n",
    "    'ifs_analysis':  'gs://weatherbench2/datasets/hres_t0/2016-2022-6h-64x32_equiangular_conservative.zarr',\n",
    "}\n",
    "\n",
    "# Forecasts\n",
    "forecast_paths = {\n",
    "    'hres':                    'gs://weatherbench2/datasets/hres/2016-2022-0012-64x32_equiangular_conservative.zarr',\n",
    "    'pangu':                   'gs://weatherbench2/datasets/pangu/2018-2022_0012_64x32_equiangular_conservative.zarr',\n",
    "    'graphcast':               'gs://weatherbench2/datasets/graphcast/2020/date_range_2019-11-16_2021-02-01_12_hours-64x32_equiangular_conservative.zarr',\n",
    "    'pangu_operational':       'gs://weatherbench2/datasets/pangu_hres_init/2020_0012_64x32_equiangular_conservative.zarr',\n",
    "    'graphcast_operational':   'gs://weatherbench2/datasets/graphcast_hres_init/2020/date_range_2019-11-16_2021-02-01_12_hours-64x32_equiangular_conservative.zarr',\n",
    "}\n",
    "\n",
    "# local data path (needs to be chosen)\n",
    "save_path = 'data/'"
   ]
  },
  {
   "cell_type": "code",
   "execution_count": 3,
   "id": "a46e0218-73e5-4f49-8878-97c3a2575a85",
   "metadata": {},
   "outputs": [],
   "source": [
    "variables = [\n",
    "    '2m_temperature',\n",
    "    'mean_sea_level_pressure',\n",
    "    '10m_wind_speed',\n",
    "    ]\n",
    "\n",
    "lead_times = [\n",
    "    np.timedelta64(1, 'D'),\n",
    "    np.timedelta64(3, 'D'),\n",
    "    np.timedelta64(5, 'D'),\n",
    "    np.timedelta64(7, 'D'),\n",
    "    np.timedelta64(10, 'D')\n",
    "    ]\n",
    "\n",
    "time_range = slice('2020-01-01','2020-12-31')"
   ]
  },
  {
   "cell_type": "code",
   "execution_count": null,
   "id": "7667223b-4810-4807-a93d-af6e8170c85e",
   "metadata": {},
   "outputs": [],
   "source": [
    "for name, path in obs_paths.items():\n",
    "    ds = xr.open_zarr(\n",
    "        store=path, \n",
    "        storage_options={'token': 'anon'},\n",
    "        decode_timedelta=True\n",
    "        ).sel(time=slice('2020-01-01','2021-01-10'))[variables].drop_encoding() # drop encoding to avoid overlap errors\n",
    "    \n",
    "    ds = ds.sel(time=ds.time.dt.hour.isin([0, 12])) # only 00 and 12 UTC times are relevant since we only have full day lead times\n",
    "\n",
    "    # rechunk\n",
    "    ds = ds.chunk({'time': 1, 'latitude': 64, 'longitude': 32})\n",
    "\n",
    "    with ProgressBar(): # not necessary but shows progress\n",
    "        ds.to_zarr(save_path + f'{name}_64x32.zarr', mode='w', consolidated=True) # make sure save_path ends in /"
   ]
  },
  {
   "cell_type": "code",
   "execution_count": null,
   "id": "097020ca-b99e-4e4d-92ea-b54d04f50291",
   "metadata": {},
   "outputs": [],
   "source": [
    "for name, path in forecast_paths.items():\n",
    "    ds = xr.open_zarr(\n",
    "        store=path, \n",
    "        storage_options={'token': 'anon'},\n",
    "        decode_timedelta=True\n",
    "        ).sel(time=time_range, prediction_timedelta=lead_times)[variables].drop_encoding()\n",
    "\n",
    "    # rechunk\n",
    "    ds = ds.chunk({'time': 1, 'latitude': 64, 'longitude': 32})\n",
    "\n",
    "    with ProgressBar():\n",
    "        ds.to_zarr(save_path + f'{name}_64x32.zarr', mode='w', consolidated=True)"
   ]
  },
  {
   "cell_type": "markdown",
   "id": "a73f3c82-f078-4625-baca-c56f5676d433",
   "metadata": {},
   "source": [
    "overall ~487 MB of data"
   ]
  },
  {
   "cell_type": "markdown",
   "id": "69dfe1dc-b033-461d-adab-19449c04c830",
   "metadata": {},
   "source": [
    "# Computing PC at an example grid point"
   ]
  },
  {
   "cell_type": "code",
   "execution_count": 21,
   "id": "7f57ada9-3596-4949-baed-fae5b446b6ed",
   "metadata": {},
   "outputs": [],
   "source": [
    "forecasts = xr.open_zarr(\n",
    "        store='data/graphcast_64x32.zarr',\n",
    "        decode_timedelta=True\n",
    "        )"
   ]
  },
  {
   "cell_type": "code",
   "execution_count": 18,
   "id": "3ef7fd9d-9fc5-455c-b38d-081c3adc6e0b",
   "metadata": {},
   "outputs": [],
   "source": [
    "observations = xr.open_zarr(\n",
    "        store='data/era5_64x32.zarr',\n",
    "        decode_timedelta=True\n",
    "        )"
   ]
  },
  {
   "cell_type": "code",
   "execution_count": 23,
   "id": "0a4cc1e4-539a-44ee-903d-e731e4b4d2b5",
   "metadata": {},
   "outputs": [],
   "source": [
    "ka_lat = 49.00937\n",
    "ka_lon = 8.40444\n",
    "var = '2m_temperature'\n",
    "lead_time = np.timedelta64(3, 'D')"
   ]
  },
  {
   "cell_type": "code",
   "execution_count": 25,
   "id": "46f3d4f2-9232-44e0-bc0d-dfa1050471bb",
   "metadata": {},
   "outputs": [],
   "source": [
    "preds_point = forecasts.sel(prediction_timedelta=lead_time, latitude=ka_lat, longitude=ka_lon, method='nearest').sel(time=time_range)[var].load()"
   ]
  },
  {
   "cell_type": "code",
   "execution_count": 27,
   "id": "bd9d0b73-1fb2-46c9-ab28-f87264997a97",
   "metadata": {},
   "outputs": [],
   "source": [
    "valid_time = preds_point.time + lead_time"
   ]
  },
  {
   "cell_type": "code",
   "execution_count": 28,
   "id": "d93fa217-9718-421c-911a-7a629c4b70aa",
   "metadata": {},
   "outputs": [],
   "source": [
    "obs_point = observations.sel(latitude=preds_point.latitude, longitude=preds_point.longitude, time=valid_time)[var].load()"
   ]
  },
  {
   "cell_type": "code",
   "execution_count": 29,
   "id": "aa209885-f157-4cb4-aaad-47fc243dc342",
   "metadata": {},
   "outputs": [],
   "source": [
    "fitted_idr = idr(obs_point, preds_point.to_dataframe()[[var]])"
   ]
  },
  {
   "cell_type": "code",
   "execution_count": 30,
   "id": "aea10da3-4bcd-426e-81fb-61da60d39ab0",
   "metadata": {},
   "outputs": [],
   "source": [
    "easyuq_preds_point = fitted_idr.predict(preds_point.to_dataframe()[[var]], digits=8)"
   ]
  },
  {
   "cell_type": "code",
   "execution_count": 31,
   "id": "a4a57fe3-2b78-44bf-9e62-5070e79dcd8f",
   "metadata": {},
   "outputs": [],
   "source": [
    "crps = easyuq_preds_point.crps(obs_point)"
   ]
  },
  {
   "cell_type": "code",
   "execution_count": 32,
   "id": "ddfc8f68-beb7-4a0c-80c9-ff540d3bb289",
   "metadata": {},
   "outputs": [],
   "source": [
    "pc = np.mean(crps)"
   ]
  },
  {
   "cell_type": "code",
   "execution_count": 33,
   "id": "f5b03002-b5e6-41c4-8c71-21612c39d54c",
   "metadata": {},
   "outputs": [
    {
     "data": {
      "text/plain": [
       "np.float64(0.2569399556732324)"
      ]
     },
     "execution_count": 33,
     "metadata": {},
     "output_type": "execute_result"
    }
   ],
   "source": [
    "pc"
   ]
  }
 ],
 "metadata": {
  "kernelspec": {
   "display_name": "Python 3 (ipykernel)",
   "language": "python",
   "name": "python3"
  },
  "language_info": {
   "codemirror_mode": {
    "name": "ipython",
    "version": 3
   },
   "file_extension": ".py",
   "mimetype": "text/x-python",
   "name": "python",
   "nbconvert_exporter": "python",
   "pygments_lexer": "ipython3",
   "version": "3.10.14"
  }
 },
 "nbformat": 4,
 "nbformat_minor": 5
}
